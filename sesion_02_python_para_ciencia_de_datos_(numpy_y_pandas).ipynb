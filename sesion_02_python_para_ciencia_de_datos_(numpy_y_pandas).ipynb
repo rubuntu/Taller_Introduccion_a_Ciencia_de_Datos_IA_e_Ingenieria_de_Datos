{
  "cells": [
    {
      "cell_type": "markdown",
      "metadata": {
        "id": "view-in-github",
        "colab_type": "text"
      },
      "source": [
        "<a href=\"https://colab.research.google.com/github/rubuntu/Taller_Introduccion_a_Ciencia_de_Datos_IA_e_Ingenieria_de_Datos/blob/main/sesion_02_python_para_ciencia_de_datos_(numpy_y_pandas).ipynb\" target=\"_parent\"><img src=\"https://colab.research.google.com/assets/colab-badge.svg\" alt=\"Open In Colab\"/></a>"
      ]
    },
    {
      "cell_type": "markdown",
      "id": "dafa86f9",
      "metadata": {
        "id": "dafa86f9"
      },
      "source": [
        "# Sesión 2: Python para Ciencia de Datos (Numpy y Pandas)\n",
        "\n",
        "## Objetivos\n",
        "- Dominar estructuras básicas de NumPy y Pandas.\n",
        "- Manipular datos tabulares y numéricos.\n",
        "- Aplicar operaciones de limpieza inicial.\n",
        "\n",
        "---\n",
        "\n",
        "## 1. NumPy: Arrays y Operaciones"
      ]
    },
    {
      "cell_type": "code",
      "execution_count": null,
      "id": "ce229376",
      "metadata": {
        "id": "ce229376"
      },
      "outputs": [],
      "source": [
        "import numpy as np\n",
        "\n",
        "# Crear array\n",
        "arr = np.array([1, 2, 3, 4, 5])\n",
        "\n",
        "print(\"Array:\", arr)\n",
        "print(\"Media:\", arr.mean())\n",
        "print(\"Suma:\", arr.sum())\n",
        "\n",
        "# Operaciones vectorizadas\n",
        "arr2 = arr * 2\n",
        "print(\"Multiplicado por 2:\", arr2)"
      ]
    },
    {
      "cell_type": "markdown",
      "id": "d97ff620",
      "metadata": {
        "id": "d97ff620"
      },
      "source": [
        "---\n",
        "\n",
        "## 2. Pandas: DataFrames"
      ]
    },
    {
      "cell_type": "code",
      "execution_count": null,
      "id": "8cb9f43b",
      "metadata": {
        "id": "8cb9f43b"
      },
      "outputs": [],
      "source": [
        "import pandas as pd\n",
        "\n",
        "data = {\"Cliente\": [\"A\", \"B\", \"C\"], \"Edad\": [25, 40, 35], \"Churn\": [0, 1, 0]}\n",
        "df = pd.DataFrame(data)\n",
        "print(df)\n",
        "\n",
        "# Filtrar\n",
        "print(df[df[\"Churn\"] == 1])\n",
        "\n",
        "# Descriptivos\n",
        "print(df.describe())"
      ]
    },
    {
      "cell_type": "markdown",
      "id": "27632d1b",
      "metadata": {
        "id": "27632d1b"
      },
      "source": [
        "---\n",
        "\n",
        "## 3. Limpieza Básica"
      ]
    },
    {
      "cell_type": "code",
      "execution_count": null,
      "id": "8fd991c4-2e27-4fc6-be70-be0c25036ee1",
      "metadata": {
        "id": "8fd991c4-2e27-4fc6-be70-be0c25036ee1"
      },
      "outputs": [],
      "source": [
        "import pandas as pd\n",
        "\n",
        "url = \"https://raw.githubusercontent.com/nikhilsthorat03/Telco-Customer-Churn/refs/heads/main/telco.csv\"\n",
        "\n",
        "# Tratar espacios en blanco como NaN y pedir dtype numérico desde el inicio\n",
        "df = pd.read_csv(\n",
        "    url,\n",
        "    index_col=0,\n",
        "    na_values=[\" \"],               # en este dataset aparecen strings vacíos/espacios\n",
        "    dtype={\"TotalCharges\": \"float32\"}  # carga directa como float (menos memoria)\n",
        ")\n",
        "\n",
        "# Si quedaron NaN en TotalCharges, rellenar con la mediana\n",
        "median_tc = df[\"TotalCharges\"].median(skipna=True)\n",
        "df[\"TotalCharges\"] = df[\"TotalCharges\"].fillna(median_tc)\n"
      ]
    },
    {
      "cell_type": "markdown",
      "id": "9d7a6f9a",
      "metadata": {
        "id": "9d7a6f9a"
      },
      "source": [
        "---\n",
        "\n",
        "## 4. Ejercicio Guiado\n",
        "\n",
        "1. Cargar el dataset.\n",
        "2. Revisar columnas categóricas y numéricas.\n",
        "3. Reemplazar valores nulos.\n",
        "4. Filtrar clientes con contrato \"Month-to-month\".\n",
        "\n",
        "---\n",
        "\n",
        "## 5. Preguntas de Discusión\n",
        "\n",
        "1. ¿Qué ventajas ofrece Pandas frente a Excel?\n",
        "2. ¿Cuáles son las operaciones más comunes en limpieza?\n",
        "3. ¿Qué problemas trae ignorar los nulos?\n",
        "\n",
        "---\n"
      ]
    }
  ],
  "metadata": {
    "jupytext": {
      "cell_metadata_filter": "-all",
      "main_language": "python",
      "notebook_metadata_filter": "-all"
    },
    "kernelspec": {
      "display_name": "Python 3 (ipykernel)",
      "language": "python",
      "name": "python3"
    },
    "language_info": {
      "codemirror_mode": {
        "name": "ipython",
        "version": 3
      },
      "file_extension": ".py",
      "mimetype": "text/x-python",
      "name": "python",
      "nbconvert_exporter": "python",
      "pygments_lexer": "ipython3",
      "version": "3.10.16"
    },
    "colab": {
      "provenance": [],
      "include_colab_link": true
    }
  },
  "nbformat": 4,
  "nbformat_minor": 5
}