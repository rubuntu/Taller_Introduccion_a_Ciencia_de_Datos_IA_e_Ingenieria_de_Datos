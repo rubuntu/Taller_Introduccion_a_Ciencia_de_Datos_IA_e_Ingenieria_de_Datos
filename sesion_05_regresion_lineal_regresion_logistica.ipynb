{
  "cells": [
    {
      "cell_type": "markdown",
      "metadata": {
        "id": "view-in-github",
        "colab_type": "text"
      },
      "source": [
        "<a href=\"https://colab.research.google.com/github/rubuntu/Taller_Introduccion_a_Ciencia_de_Datos_IA_e_Ingenieria_de_Datos/blob/main/sesion_05_regresion_lineal_regresion_logistica.ipynb\" target=\"_parent\"><img src=\"https://colab.research.google.com/assets/colab-badge.svg\" alt=\"Open In Colab\"/></a>"
      ]
    },
    {
      "cell_type": "markdown",
      "id": "a769e7a3-91d0-433e-82cd-f813a29d5a54",
      "metadata": {
        "id": "a769e7a3-91d0-433e-82cd-f813a29d5a54"
      },
      "source": [
        "# Comparativo: Regresión Lineal vs Regresión Logística"
      ]
    },
    {
      "cell_type": "markdown",
      "id": "9d382c6e-354d-46c1-ae64-7f707e519088",
      "metadata": {
        "id": "9d382c6e-354d-46c1-ae64-7f707e519088"
      },
      "source": [
        "# 📘 Regresión Lineal\n",
        "\n",
        "## 1. Concepto\n",
        "\n",
        "* Modelo estadístico que **predice un valor numérico continuo** en función de variables independientes.\n",
        "* Supone una **relación lineal** entre variables:\n",
        "\n",
        "$$\n",
        "Y = \\beta_0 + \\beta_1 X_1 + \\beta_2 X_2 + \\dots + \\beta_n X_n + \\epsilon\n",
        "$$\n",
        "\n",
        "* Donde:\n",
        "\n",
        "  * $Y$ = variable dependiente (lo que queremos predecir).\n",
        "  * $X_i$ = variables independientes (predictoras).\n",
        "  * $\\beta_i$ = coeficientes (pendientes).\n",
        "  * $\\epsilon$ = error.\n",
        "\n",
        "---\n",
        "\n",
        "## 2. Ejemplo\n",
        "\n",
        "* Predecir el **precio de una casa** en función de su superficie.\n",
        "\n",
        "$$\n",
        "Precio = \\beta_0 + \\beta_1 \\cdot Superficie\n",
        "$$\n",
        "\n",
        "Si $\\beta_0 = 50,000$ y $\\beta_1 = 1,000$,\n",
        "una casa de 100 m² tendría precio ≈ 150,000.\n",
        "\n",
        "---\n",
        "\n",
        "## 3. Gráfico Intuitivo\n",
        "\n",
        "Una **línea recta** que mejor ajusta los puntos de datos.\n",
        "La idea es minimizar el error cuadrático medio (**MSE**).\n",
        "\n",
        "---\n",
        "\n",
        "## 4. Aplicaciones\n",
        "\n",
        "* Predicción de ingresos en función de años de educación.\n",
        "* Forecast de ventas según inversión en marketing.\n",
        "* Estimar el riesgo crediticio (como variable continua, ej. probabilidad).\n",
        "\n",
        "---"
      ]
    },
    {
      "cell_type": "code",
      "execution_count": null,
      "id": "59990383-19b5-4e9d-b07d-b5d17c902b86",
      "metadata": {
        "id": "59990383-19b5-4e9d-b07d-b5d17c902b86"
      },
      "outputs": [],
      "source": [
        "# Ejemplo en Python\n",
        "\n",
        "import numpy as np\n",
        "import matplotlib.pyplot as plt\n",
        "from sklearn.datasets import make_regression\n",
        "from sklearn.model_selection import train_test_split\n",
        "from sklearn.linear_model import LinearRegression\n",
        "from sklearn.metrics import mean_squared_error, r2_score\n",
        "\n",
        "X, y = make_regression(n_samples=300, n_features=1, noise=15.0, random_state=42)\n",
        "X_train, X_test, y_train, y_test = train_test_split(X, y, test_size=0.25, random_state=42)\n",
        "\n",
        "lin_model = LinearRegression().fit(X_train, y_train)\n",
        "y_pred = lin_model.predict(X_test)\n",
        "\n",
        "rmse = np.sqrt(mean_squared_error(y_test, y_pred))\n",
        "r2 = r2_score(y_test, y_pred)\n",
        "\n",
        "plt.scatter(X_test, y_test, alpha=0.5)\n",
        "order = np.argsort(X_test[:, 0])\n",
        "plt.plot(X_test[order], y_pred[order], color=\"red\")\n",
        "plt.title(f\"Regresión Lineal: RMSE={rmse:.2f}, R²={r2:.3f}\")\n",
        "plt.xlabel(\"X\"); plt.ylabel(\"y\")\n",
        "plt.show()\n"
      ]
    },
    {
      "cell_type": "code",
      "execution_count": null,
      "id": "cbfd603b-80aa-4bfe-bb40-eadb6c764e1c",
      "metadata": {
        "id": "cbfd603b-80aa-4bfe-bb40-eadb6c764e1c"
      },
      "outputs": [],
      "source": [
        "# --- Gráfico Predicción vs Realidad ---\n",
        "plt.scatter(y_test, y_pred, alpha=0.5)\n",
        "plt.plot([y_test.min(), y_test.max()],\n",
        "         [y_test.min(), y_test.max()],\n",
        "         'r--', lw=2)  # línea ideal\n",
        "plt.xlabel(\"Valor Real (y_test)\")\n",
        "plt.ylabel(\"Predicción (y_pred)\")\n",
        "plt.title(\"Predicción vs Realidad\")\n",
        "plt.show()"
      ]
    },
    {
      "cell_type": "markdown",
      "id": "705b7237-ab8a-4be8-a703-c07f702c6d45",
      "metadata": {
        "id": "705b7237-ab8a-4be8-a703-c07f702c6d45"
      },
      "source": [
        "# 📘 Regresión Logística\n",
        "\n",
        "## 1. Concepto\n",
        "\n",
        "* Variante que sirve para **clasificación binaria** (Sí/No, 0/1).\n",
        "* En lugar de predecir valores continuos, predice **probabilidades**:\n",
        "\n",
        "$$\n",
        "P(Y=1|X) = \\frac{1}{1 + e^{-(\\beta_0 + \\beta_1X_1 + \\dots + \\beta_nX_n)}}\n",
        "$$\n",
        "\n",
        "* La función **sigmoide** transforma cualquier valor en un número entre 0 y 1.\n",
        "\n",
        "---\n",
        "\n",
        "## 2. Ejemplo\n",
        "\n",
        "* Predecir si un cliente **hará churn** (1) o no (0).\n",
        "\n",
        "$$\n",
        "Logit(P) = \\ln\\left(\\frac{P}{1-P}\\right) = \\beta_0 + \\beta_1 X\n",
        "$$\n",
        "\n",
        "Si el modelo predice $P=0.8$, interpretamos: **80% de probabilidad de churn**.\n",
        "\n",
        "---\n",
        "\n",
        "## 3. Gráfico Intuitivo\n",
        "\n",
        "* La curva de la regresión logística es en forma de **S (sigmoide)**.\n",
        "* Para valores bajos de X → P cercano a 0.\n",
        "* Para valores altos de X → P cercano a 1.\n",
        "* Punto de corte (threshold, usualmente 0.5) → decide clase 0 o 1.\n",
        "\n",
        "---\n",
        "\n",
        "## 4. Aplicaciones\n",
        "\n",
        "* Detección de fraude (fraude = 1, no fraude = 0).\n",
        "* Diagnóstico médico (enfermo = 1, sano = 0).\n",
        "* Predicción de abandono (churn).\n",
        "\n",
        "---"
      ]
    },
    {
      "cell_type": "code",
      "execution_count": null,
      "id": "83e9b1da-96e5-4a4a-b5eb-10fc4e676921",
      "metadata": {
        "id": "83e9b1da-96e5-4a4a-b5eb-10fc4e676921"
      },
      "outputs": [],
      "source": [
        "# Ejemplo en Python\n",
        "\n",
        "import numpy as np\n",
        "import matplotlib.pyplot as plt\n",
        "from sklearn.datasets import make_classification\n",
        "from sklearn.model_selection import train_test_split\n",
        "from sklearn.linear_model import LogisticRegression\n",
        "from sklearn.metrics import accuracy_score, f1_score, roc_auc_score, RocCurveDisplay\n",
        "\n",
        "# Dataset binario 1D (válido)\n",
        "Xc, yc = make_classification(\n",
        "    n_samples=10000,\n",
        "    n_features=1,\n",
        "    n_redundant=0,\n",
        "    n_informative=1,\n",
        "    n_classes=2,\n",
        "    n_clusters_per_class=1,\n",
        "    class_sep=0.8,      # ↓ separa menos las clases\n",
        "    flip_y=0.2,         # 20% de etiquetas ruidosas\n",
        "    random_state=42\n",
        ")\n",
        "\n",
        "Xc_train, Xc_test, yc_train, yc_test = train_test_split(\n",
        "    Xc, yc, test_size=0.25, stratify=yc, random_state=42\n",
        ")\n",
        "\n",
        "# Modelo\n",
        "log_model = LogisticRegression().fit(Xc_train, yc_train)\n",
        "\n",
        "y_pred = log_model.predict(Xc_test)\n",
        "y_proba = log_model.predict_proba(Xc_test)[:, 1]\n",
        "\n",
        "print(\"Accuracy:\", accuracy_score(yc_test, y_pred))\n",
        "print(\"F1:\", f1_score(yc_test, y_pred))\n",
        "print(\"AUC:\", roc_auc_score(yc_test, y_proba))"
      ]
    },
    {
      "cell_type": "code",
      "execution_count": null,
      "id": "b00480da-a4c6-4dfd-8590-a2dbe1a7acf6",
      "metadata": {
        "id": "b00480da-a4c6-4dfd-8590-a2dbe1a7acf6"
      },
      "outputs": [],
      "source": [
        "# Curva sigmoide\n",
        "xs = np.linspace(Xc_test.min(), Xc_test.max(), 200).reshape(-1, 1)\n",
        "sig = log_model.predict_proba(xs)[:, 1]\n",
        "\n",
        "plt.scatter(Xc_test, yc_test, alpha=0.5)\n",
        "plt.plot(xs, sig)\n",
        "plt.title(\"Regresión Logística: Probabilidad P(Y=1|X)\")\n",
        "plt.xlabel(\"X\"); plt.ylabel(\"Probabilidad\")\n",
        "plt.show()"
      ]
    },
    {
      "cell_type": "code",
      "execution_count": null,
      "id": "28cb9b02-416f-48fe-9e46-9aa7cc7fe58a",
      "metadata": {
        "id": "28cb9b02-416f-48fe-9e46-9aa7cc7fe58a"
      },
      "outputs": [],
      "source": [
        "# Curva ROC\n",
        "RocCurveDisplay.from_predictions(yc_test, y_proba)\n",
        "plt.title(\"Curva ROC\")\n",
        "plt.show()"
      ]
    },
    {
      "cell_type": "code",
      "execution_count": null,
      "id": "f408e118-b9e1-4615-a29b-3ed06226ae30",
      "metadata": {
        "id": "f408e118-b9e1-4615-a29b-3ed06226ae30"
      },
      "outputs": [],
      "source": [
        "from sklearn.metrics import (\n",
        "    classification_report, confusion_matrix, ConfusionMatrixDisplay,\n",
        "    PrecisionRecallDisplay, average_precision_score\n",
        ")\n",
        "\n",
        "# --- Reporte de clasificación ---\n",
        "print(\"\\n=== Classification Report ===\")\n",
        "print(classification_report(yc_test, y_pred, digits=3))\n",
        "\n",
        "# --- Matriz de confusión (texto + plot) ---\n",
        "cm = confusion_matrix(yc_test, y_pred)\n",
        "print(\"\\n=== Confusion Matrix ===\\n\", cm)\n",
        "\n",
        "disp = ConfusionMatrixDisplay(confusion_matrix=cm)\n",
        "disp.plot()\n",
        "plt.title(\"Matriz de Confusión\")\n",
        "plt.show()\n",
        "\n",
        "# --- Curva Precision-Recall + Average Precision ---\n",
        "ap = average_precision_score(yc_test, y_proba)\n",
        "PrecisionRecallDisplay.from_predictions(yc_test, y_proba)\n",
        "plt.title(f\"Curva Precision-Recall (AP = {ap:.3f})\")\n",
        "plt.show()\n"
      ]
    },
    {
      "cell_type": "markdown",
      "id": "4110eb55-2873-43ee-b06b-76b994ddc96d",
      "metadata": {
        "id": "4110eb55-2873-43ee-b06b-76b994ddc96d"
      },
      "source": [
        "# 📊 Diferencias Clave\n",
        "\n",
        "| Aspecto         | Regresión Lineal      | Regresión Logística        |\n",
        "| --------------- | --------------------- | -------------------------- |\n",
        "| Tipo de salida  | Variable continua (ℝ) | Probabilidad (0 a 1)       |\n",
        "| Función         | Recta                 | Sigmoide (S)               |\n",
        "| Problema típico | Predicción de valores | Clasificación binaria      |\n",
        "| Ejemplo         | Precio de casas       | ¿El cliente abandona o no? |\n",
        "| Métrica común   | MSE, R²               | AUC, F1, LogLoss           |\n",
        "\n",
        "---\n",
        "\n",
        "👉 Una buena forma de recordarlo:\n",
        "\n",
        "* **Lineal = línea recta = predecir números**.\n",
        "* **Logística = lógica binaria = predecir sí/no con probabilidades**."
      ]
    },
    {
      "cell_type": "code",
      "execution_count": null,
      "id": "0af2b77f-9c1b-4009-9aa5-a40c7ac31a5a",
      "metadata": {
        "id": "0af2b77f-9c1b-4009-9aa5-a40c7ac31a5a"
      },
      "outputs": [],
      "source": []
    }
  ],
  "metadata": {
    "kernelspec": {
      "display_name": "Python 3 (ipykernel)",
      "language": "python",
      "name": "python3"
    },
    "language_info": {
      "codemirror_mode": {
        "name": "ipython",
        "version": 3
      },
      "file_extension": ".py",
      "mimetype": "text/x-python",
      "name": "python",
      "nbconvert_exporter": "python",
      "pygments_lexer": "ipython3",
      "version": "3.10.16"
    },
    "colab": {
      "provenance": [],
      "include_colab_link": true
    }
  },
  "nbformat": 4,
  "nbformat_minor": 5
}