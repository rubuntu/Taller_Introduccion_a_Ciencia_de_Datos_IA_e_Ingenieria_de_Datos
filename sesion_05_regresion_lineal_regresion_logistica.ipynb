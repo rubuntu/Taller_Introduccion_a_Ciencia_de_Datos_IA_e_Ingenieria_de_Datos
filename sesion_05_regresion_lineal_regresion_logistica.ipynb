{
  "cells": [
    {
      "cell_type": "markdown",
      "metadata": {
        "id": "view-in-github",
        "colab_type": "text"
      },
      "source": [
        "<a href=\"https://colab.research.google.com/github/rubuntu/Taller_Introduccion_a_Ciencia_de_Datos_IA_e_Ingenieria_de_Datos/blob/main/sesion_05_regresion_lineal_regresion_logistica.ipynb\" target=\"_parent\"><img src=\"https://colab.research.google.com/assets/colab-badge.svg\" alt=\"Open In Colab\"/></a>"
      ]
    },
    {
      "cell_type": "markdown",
      "id": "a6ee3b9e-e413-4670-9931-9946bd7a271e",
      "metadata": {
        "id": "a6ee3b9e-e413-4670-9931-9946bd7a271e"
      },
      "source": [
        "# 📘 Comparativo: Regresión Lineal vs Regresión Logística\n",
        "\n",
        "## 1. Regresión Lineal\n",
        "\n",
        "La regresión lineal busca ajustar una recta que explique la relación entre $X$ y $Y$ (continuo):\n",
        "\n",
        "$$\n",
        "Y = \\beta_0 + \\beta_1 X + \\epsilon\n",
        "$$\n",
        "\n",
        "### Código en Python\n",
        "\n"
      ]
    },
    {
      "cell_type": "code",
      "execution_count": null,
      "id": "1fbde8f3-856d-4b6b-be94-c13a58b8148d",
      "metadata": {
        "id": "1fbde8f3-856d-4b6b-be94-c13a58b8148d"
      },
      "outputs": [],
      "source": [
        "import numpy as np\n",
        "import matplotlib.pyplot as plt\n",
        "from sklearn.datasets import make_regression\n",
        "from sklearn.model_selection import train_test_split\n",
        "from sklearn.linear_model import LinearRegression\n",
        "from sklearn.metrics import mean_squared_error, r2_score\n",
        "\n",
        "X, y = make_regression(n_samples=300, n_features=1, noise=15.0, random_state=42)\n",
        "X_train, X_test, y_train, y_test = train_test_split(X, y, test_size=0.25, random_state=42)\n",
        "\n",
        "lin_model = LinearRegression().fit(X_train, y_train)\n",
        "y_pred = lin_model.predict(X_test)\n",
        "\n",
        "rmse = np.sqrt(mean_squared_error(y_test, y_pred))\n",
        "r2 = r2_score(y_test, y_pred)\n",
        "\n",
        "plt.scatter(X_test, y_test, alpha=0.5)\n",
        "order = np.argsort(X_test[:, 0])\n",
        "plt.plot(X_test[order], y_pred[order], color=\"red\")\n",
        "plt.title(f\"Regresión Lineal: RMSE={rmse:.2f}, R²={r2:.3f}\")\n",
        "plt.xlabel(\"X\"); plt.ylabel(\"y\")\n",
        "plt.show()\n"
      ]
    },
    {
      "cell_type": "code",
      "execution_count": null,
      "id": "f88f9b59-73d5-48ca-a867-138a3a03afae",
      "metadata": {
        "id": "f88f9b59-73d5-48ca-a867-138a3a03afae"
      },
      "outputs": [],
      "source": [
        "# --- Gráfico Predicción vs Realidad ---\n",
        "plt.scatter(y_test, y_pred, alpha=0.5)\n",
        "plt.plot([y_test.min(), y_test.max()],\n",
        "         [y_test.min(), y_test.max()],\n",
        "         'r--', lw=2)  # línea ideal\n",
        "plt.xlabel(\"Valor Real (y_test)\")\n",
        "plt.ylabel(\"Predicción (y_pred)\")\n",
        "plt.title(\"Predicción vs Realidad\")\n",
        "plt.show()"
      ]
    },
    {
      "cell_type": "markdown",
      "id": "82ceee58-89db-4a15-8240-fe210f6e19b1",
      "metadata": {
        "id": "82ceee58-89db-4a15-8240-fe210f6e19b1"
      },
      "source": [
        "## 2. Regresión Logística\n",
        "\n",
        "La regresión logística usa la función **sigmoide** para mapear cualquier valor real a una probabilidad entre 0 y 1:\n",
        "\n",
        "$$\n",
        "P(Y=1|X) = \\frac{1}{1 + e^{-(\\beta_0 + \\beta_1X)}}\n",
        "$$\n",
        "\n",
        "### Código en Python\n"
      ]
    },
    {
      "cell_type": "code",
      "execution_count": null,
      "id": "dc50e780-61a3-4590-85e9-268b2e67164d",
      "metadata": {
        "id": "dc50e780-61a3-4590-85e9-268b2e67164d"
      },
      "outputs": [],
      "source": [
        "import numpy as np\n",
        "import matplotlib.pyplot as plt\n",
        "from sklearn.datasets import make_classification\n",
        "from sklearn.model_selection import train_test_split\n",
        "from sklearn.linear_model import LogisticRegression\n",
        "from sklearn.metrics import accuracy_score, f1_score, roc_auc_score, RocCurveDisplay\n",
        "\n",
        "# Dataset binario 1D (válido)\n",
        "Xc, yc = make_classification(\n",
        "    n_samples=10000,\n",
        "    n_features=1,\n",
        "    n_redundant=0,\n",
        "    n_informative=1,\n",
        "    n_classes=2,\n",
        "    n_clusters_per_class=1,\n",
        "    class_sep=0.8,      # ↓ separa menos las clases\n",
        "    flip_y=0.2,         # 20% de etiquetas ruidosas\n",
        "    random_state=42\n",
        ")\n",
        "\n",
        "Xc_train, Xc_test, yc_train, yc_test = train_test_split(\n",
        "    Xc, yc, test_size=0.25, stratify=yc, random_state=42\n",
        ")\n",
        "\n",
        "# Modelo\n",
        "log_model = LogisticRegression().fit(Xc_train, yc_train)\n",
        "\n",
        "y_pred = log_model.predict(Xc_test)\n",
        "y_proba = log_model.predict_proba(Xc_test)[:, 1]\n",
        "\n",
        "print(\"Accuracy:\", accuracy_score(yc_test, y_pred))\n",
        "print(\"F1:\", f1_score(yc_test, y_pred))\n",
        "print(\"AUC:\", roc_auc_score(yc_test, y_proba))\n",
        "\n",
        "# Curva sigmoide\n",
        "xs = np.linspace(Xc_test.min(), Xc_test.max(), 200).reshape(-1, 1)\n",
        "sig = log_model.predict_proba(xs)[:, 1]\n",
        "\n",
        "plt.scatter(Xc_test, yc_test, alpha=0.5)\n",
        "plt.plot(xs, sig)\n",
        "plt.title(\"Regresión Logística: Probabilidad P(Y=1|X)\")\n",
        "plt.xlabel(\"X\"); plt.ylabel(\"Probabilidad\")\n",
        "plt.show()\n",
        "\n",
        "# Curva ROC\n",
        "RocCurveDisplay.from_predictions(yc_test, y_proba)\n",
        "plt.title(\"Curva ROC\")\n",
        "plt.show()\n"
      ]
    },
    {
      "cell_type": "code",
      "execution_count": null,
      "id": "f408e118-b9e1-4615-a29b-3ed06226ae30",
      "metadata": {
        "id": "f408e118-b9e1-4615-a29b-3ed06226ae30"
      },
      "outputs": [],
      "source": [
        "from sklearn.metrics import (\n",
        "    classification_report, confusion_matrix, ConfusionMatrixDisplay,\n",
        "    PrecisionRecallDisplay, average_precision_score\n",
        ")\n",
        "\n",
        "# --- Reporte de clasificación ---\n",
        "print(\"\\n=== Classification Report ===\")\n",
        "print(classification_report(yc_test, y_pred, digits=3))\n",
        "\n",
        "# --- Matriz de confusión (texto + plot) ---\n",
        "cm = confusion_matrix(yc_test, y_pred)\n",
        "print(\"\\n=== Confusion Matrix ===\\n\", cm)\n",
        "\n",
        "disp = ConfusionMatrixDisplay(confusion_matrix=cm)\n",
        "disp.plot()\n",
        "plt.title(\"Matriz de Confusión\")\n",
        "plt.show()\n",
        "\n",
        "# --- Curva Precision-Recall + Average Precision ---\n",
        "ap = average_precision_score(yc_test, y_proba)\n",
        "PrecisionRecallDisplay.from_predictions(yc_test, y_proba)\n",
        "plt.title(f\"Curva Precision-Recall (AP = {ap:.3f})\")\n",
        "plt.show()\n"
      ]
    },
    {
      "cell_type": "markdown",
      "id": "1ea29826-c98f-498a-a590-c2d0e45f9864",
      "metadata": {
        "id": "1ea29826-c98f-498a-a590-c2d0e45f9864"
      },
      "source": [
        "## 3. Comparación Resumida\n",
        "\n",
        "| Aspecto          | Regresión Lineal    | Regresión Logística        |\n",
        "| ---------------- | ------------------- | -------------------------- |\n",
        "| Tipo de salida   | Variable continua   | Probabilidad (0 a 1)       |\n",
        "| Función          | Recta               | Sigmoide (S)               |\n",
        "| Problema típico  | Predicción numérica | Clasificación binaria      |\n",
        "| Ejemplo          | Precio de casas     | ¿Cliente abandona? (Sí/No) |\n",
        "| Métricas comunes | RMSE, R²            | AUC, F1, Accuracy          |\n",
        "\n",
        "\n"
      ]
    },
    {
      "cell_type": "code",
      "execution_count": null,
      "id": "0d2a6eee-b5c7-4da0-a030-891e74d2cfaf",
      "metadata": {
        "id": "0d2a6eee-b5c7-4da0-a030-891e74d2cfaf"
      },
      "outputs": [],
      "source": []
    }
  ],
  "metadata": {
    "kernelspec": {
      "display_name": "Python 3 (ipykernel)",
      "language": "python",
      "name": "python3"
    },
    "language_info": {
      "codemirror_mode": {
        "name": "ipython",
        "version": 3
      },
      "file_extension": ".py",
      "mimetype": "text/x-python",
      "name": "python",
      "nbconvert_exporter": "python",
      "pygments_lexer": "ipython3",
      "version": "3.10.16"
    },
    "colab": {
      "provenance": [],
      "include_colab_link": true
    }
  },
  "nbformat": 4,
  "nbformat_minor": 5
}