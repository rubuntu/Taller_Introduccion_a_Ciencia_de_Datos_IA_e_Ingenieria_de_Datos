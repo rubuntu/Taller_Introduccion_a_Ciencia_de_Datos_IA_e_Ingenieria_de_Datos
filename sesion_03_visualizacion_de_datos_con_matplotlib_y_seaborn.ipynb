{
  "cells": [
    {
      "cell_type": "markdown",
      "metadata": {
        "id": "view-in-github",
        "colab_type": "text"
      },
      "source": [
        "<a href=\"https://colab.research.google.com/github/rubuntu/Taller_Introduccion_a_Ciencia_de_Datos_IA_e_Ingenieria_de_Datos/blob/main/sesion_03_visualizacion_de_datos_con_matplotlib_y_seaborn.ipynb\" target=\"_parent\"><img src=\"https://colab.research.google.com/assets/colab-badge.svg\" alt=\"Open In Colab\"/></a>"
      ]
    },
    {
      "cell_type": "markdown",
      "id": "1d958244",
      "metadata": {
        "id": "1d958244"
      },
      "source": [
        "# Sesión 3: Visualización de Datos con Matplotlib y Seaborn\n",
        "\n",
        "## Objetivos\n",
        "- Aprender a crear gráficos básicos con Matplotlib.\n",
        "- Usar Seaborn para gráficos estadísticos.\n",
        "- Explorar patrones en el dataset de churn.\n",
        "\n",
        "---\n",
        "\n",
        "## 1. Matplotlib: Gráficos Básicos"
      ]
    },
    {
      "cell_type": "code",
      "execution_count": null,
      "id": "f21666b0",
      "metadata": {
        "id": "f21666b0"
      },
      "outputs": [],
      "source": [
        "import matplotlib.pyplot as plt\n",
        "\n",
        "x = [1, 2, 3, 4, 5]\n",
        "y = [2, 4, 6, 8, 10]\n",
        "\n",
        "plt.plot(x, y, marker=\"o\")\n",
        "plt.title(\"Ejemplo Matplotlib\")\n",
        "plt.xlabel(\"X\")\n",
        "plt.ylabel(\"Y\")\n",
        "plt.show()"
      ]
    },
    {
      "cell_type": "markdown",
      "id": "326ce1c0",
      "metadata": {
        "id": "326ce1c0"
      },
      "source": [
        "---\n",
        "\n",
        "## 2. Seaborn: Gráficos Estadísticos"
      ]
    },
    {
      "cell_type": "code",
      "execution_count": null,
      "id": "f52e8d7d",
      "metadata": {
        "id": "f52e8d7d"
      },
      "outputs": [],
      "source": [
        "import seaborn as sns\n",
        "import pandas as pd\n",
        "\n",
        "url = \"https://raw.githubusercontent.com/nikhilsthorat03/Telco-Customer-Churn/refs/heads/main/telco.csv\"\n",
        "df = pd.read_csv(url, index_col=0)\n",
        "\n",
        "# Countplot (categoría vs frecuencia)\n",
        "sns.countplot(x=\"Churn\", data=df)\n",
        "plt.title(\"Distribución de Churn\")\n",
        "plt.show()"
      ]
    },
    {
      "cell_type": "markdown",
      "id": "3474b878",
      "metadata": {
        "id": "3474b878"
      },
      "source": [
        "---\n",
        "\n",
        "## 3. Boxplot y Correlaciones"
      ]
    },
    {
      "cell_type": "code",
      "execution_count": null,
      "id": "2e775423",
      "metadata": {
        "id": "2e775423"
      },
      "outputs": [],
      "source": [
        "# Tenure (permanencia) según churn\n",
        "sns.boxplot(x=\"Churn\", y=\"tenure\", data=df)\n",
        "plt.title(\"Tenure vs Churn\")\n",
        "plt.show()\n",
        "\n",
        "# Heatmap\n",
        "plt.figure(figsize=(10,6))\n",
        "sns.heatmap(df.corr(numeric_only=True), annot=True, cmap=\"coolwarm\")\n",
        "plt.title(\"Correlaciones\")\n",
        "plt.show()"
      ]
    },
    {
      "cell_type": "markdown",
      "id": "48254934",
      "metadata": {
        "id": "48254934"
      },
      "source": [
        "---\n",
        "\n",
        "## 4. Ejercicio Guiado\n",
        "\n",
        "1. Graficar distribución de `MonthlyCharges`.\n",
        "2. Comparar `Contract` vs `Churn` con un gráfico de barras.\n",
        "3. Crear un heatmap solo con variables numéricas.\n",
        "\n",
        "---\n",
        "\n",
        "## 5. Preguntas de Discusión\n",
        "\n",
        "1. ¿Qué patrones aparecen en clientes que abandonan?\n",
        "2. ¿Qué variables parecen más influyentes visualmente?\n",
        "3. ¿Cómo usarían estas visualizaciones para convencer a un directivo?\n",
        "\n",
        "---"
      ]
    },
    {
      "cell_type": "code",
      "execution_count": null,
      "id": "10382453-818f-4519-bc16-a757eb607e3d",
      "metadata": {
        "id": "10382453-818f-4519-bc16-a757eb607e3d"
      },
      "outputs": [],
      "source": []
    }
  ],
  "metadata": {
    "jupytext": {
      "cell_metadata_filter": "-all",
      "main_language": "python",
      "notebook_metadata_filter": "-all"
    },
    "kernelspec": {
      "display_name": "Python 3 (ipykernel)",
      "language": "python",
      "name": "python3"
    },
    "language_info": {
      "codemirror_mode": {
        "name": "ipython",
        "version": 3
      },
      "file_extension": ".py",
      "mimetype": "text/x-python",
      "name": "python",
      "nbconvert_exporter": "python",
      "pygments_lexer": "ipython3",
      "version": "3.10.16"
    },
    "colab": {
      "provenance": [],
      "include_colab_link": true
    }
  },
  "nbformat": 4,
  "nbformat_minor": 5
}