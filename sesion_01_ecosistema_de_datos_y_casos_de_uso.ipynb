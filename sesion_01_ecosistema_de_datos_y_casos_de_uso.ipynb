{
  "cells": [
    {
      "cell_type": "markdown",
      "metadata": {
        "id": "view-in-github",
        "colab_type": "text"
      },
      "source": [
        "<a href=\"https://colab.research.google.com/github/rubuntu/Taller_Introduccion_a_Ciencia_de_Datos_IA_e_Ingenieria_de_Datos/blob/main/sesion_01_ecosistema_de_datos_y_casos_de_uso.ipynb\" target=\"_parent\"><img src=\"https://colab.research.google.com/assets/colab-badge.svg\" alt=\"Open In Colab\"/></a>"
      ]
    },
    {
      "cell_type": "markdown",
      "id": "04afa2f4",
      "metadata": {
        "id": "04afa2f4"
      },
      "source": [
        "# Sesión 1: Ecosistema de Datos y Casos de Uso\n",
        "\n",
        "## Objetivos\n",
        "- Comprender el papel de la Ciencia de Datos en distintos sectores.\n",
        "- Reconocer los componentes del ecosistema de datos.\n",
        "- Explorar ejemplos reales en banca, retail y telecomunicaciones.\n",
        "\n",
        "---\n",
        "\n",
        "## 1. ¿Qué es Ciencia de Datos?\n",
        "Es la intersección entre **estadística, programación y conocimiento de negocio**.  \n",
        "Su propósito: **extraer valor de los datos para tomar mejores decisiones**.\n",
        "\n",
        "---\n",
        "\n",
        "## 2. Ecosistema de Datos\n",
        "- **Infraestructura**: data lakes, bases relacionales, sistemas distribuidos.  \n",
        "- **Procesamiento**: ETL, pipelines, Spark, Airflow.  \n",
        "- **Modelado**: machine learning, deep learning.  \n",
        "- **Visualización y toma de decisión**: dashboards, storytelling.\n",
        "\n",
        "---\n",
        "\n",
        "## 3. Casos de Uso\n",
        "\n",
        "### Banca\n",
        "- Predicción de *churn* (abandono de clientes).\n",
        "- Detección de fraude en tarjetas.\n",
        "- Scoring crediticio.\n",
        "\n",
        "### Retail\n",
        "- Recomendadores de productos.\n",
        "- Optimización de inventario.\n",
        "- Segmentación de clientes.\n",
        "\n",
        "### Telcos\n",
        "- Predicción de abandono.\n",
        "- Análisis de patrones de uso.\n",
        "- Detección de anomalías en la red.\n",
        "\n",
        "---\n",
        "\n",
        "## 4. Ejemplo Real\n",
        "Usaremos un dataset público de **Customer Churn en Telco**:  \n",
        "👉 [Telco Customer Churn Dataset (Kaggle)](https://www.kaggle.com/blastchar/telco-customer-churn)\n",
        "\n",
        "---\n",
        "\n",
        "## 5. Demo: Cargar y Explorar Datos"
      ]
    },
    {
      "cell_type": "code",
      "execution_count": null,
      "id": "dd9fedce",
      "metadata": {
        "id": "dd9fedce"
      },
      "outputs": [],
      "source": [
        "import pandas as pd\n",
        "\n",
        "url = \"https://raw.githubusercontent.com/nikhilsthorat03/Telco-Customer-Churn/refs/heads/main/telco.csv\"\n",
        "df = pd.read_csv(url, index_col=0)   # <- aquí se usa la primera columna como índice\n",
        "\n",
        "df.head()"
      ]
    },
    {
      "cell_type": "markdown",
      "id": "f4f6455d",
      "metadata": {
        "id": "f4f6455d"
      },
      "source": [
        "---\n",
        "\n",
        "## 6. Preguntas de Discusión\n",
        "\n",
        "1. ¿Qué similitudes/diferencias hay entre casos de churn en banca y telcos?\n",
        "2. ¿Dónde creen que es más crítico el tiempo real en las predicciones?\n",
        "3. ¿Qué otros sectores conocen donde se use ciencia de datos?\n",
        "\n",
        "---"
      ]
    }
  ],
  "metadata": {
    "jupytext": {
      "cell_metadata_filter": "-all",
      "main_language": "python",
      "notebook_metadata_filter": "-all"
    },
    "kernelspec": {
      "display_name": "Python 3 (ipykernel)",
      "language": "python",
      "name": "python3"
    },
    "language_info": {
      "codemirror_mode": {
        "name": "ipython",
        "version": 3
      },
      "file_extension": ".py",
      "mimetype": "text/x-python",
      "name": "python",
      "nbconvert_exporter": "python",
      "pygments_lexer": "ipython3",
      "version": "3.10.16"
    },
    "colab": {
      "provenance": [],
      "include_colab_link": true
    }
  },
  "nbformat": 4,
  "nbformat_minor": 5
}