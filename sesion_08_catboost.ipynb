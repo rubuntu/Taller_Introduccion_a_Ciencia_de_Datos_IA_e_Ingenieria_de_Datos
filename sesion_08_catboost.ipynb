{
  "cells": [
    {
      "cell_type": "markdown",
      "metadata": {
        "id": "view-in-github",
        "colab_type": "text"
      },
      "source": [
        "<a href=\"https://colab.research.google.com/github/rubuntu/Taller_Introduccion_a_Ciencia_de_Datos_IA_e_Ingenieria_de_Datos/blob/main/sesion_08_catboost.ipynb\" target=\"_parent\"><img src=\"https://colab.research.google.com/assets/colab-badge.svg\" alt=\"Open In Colab\"/></a>"
      ]
    },
    {
      "cell_type": "markdown",
      "id": "762d0fca",
      "metadata": {
        "id": "762d0fca"
      },
      "source": [
        "# Sesión 08: CatBoost\n",
        "\n",
        "## Objetivos\n",
        "- Comprender qué es CatBoost y cómo maneja variables categóricas.\n",
        "- Entrenar un modelo CatBoost con el dataset \"default de tarjetas de crédito\" y con el dataset \"bank marketing\"\n",
        "- Comparar resultados con XGBoost.\n",
        "\n",
        "---\n",
        "\n",
        "## 1. ¿Qué es CatBoost?\n",
        "- Algoritmo de gradient boosting desarrollado por Yandex.\n",
        "- **Ventajas clave:**\n",
        "  - Manejo nativo de **variables categóricas**.\n",
        "  - Generaliza bien con menos tuning.\n",
        "  - Menor riesgo de overfitting en comparación con otros boosters.\n",
        "\n",
        "---\n",
        "\n",
        "## 2. Preparación del Dataset"
      ]
    },
    {
      "cell_type": "markdown",
      "source": [
        "Las variables del dataset de **default de tarjetas de crédito** de UCI (University of California, Irvine) representan información demográfica, historial crediticio y de pagos de clientes de un banco en Taiwán. Este conjunto de datos, con 30.000 casos, se utiliza para predecir si un cliente va a entrar en **default** (incumplimiento de pago) al mes siguiente.\n",
        "\n",
        "---\n",
        "\n",
        "## 📋 Descripción de las variables\n",
        "\n",
        "A continuación, se detalla el significado de las variables:\n",
        "\n",
        "### Variables demográficas\n",
        "* **ID**: Identificador único de cada cliente.\n",
        "* **LIMIT_BAL**: Monto del crédito otorgado en dólares taiwaneses (NT$). . Esto incluye tanto el crédito individual como el familiar o suplementario.\n",
        "* **SEX**: Género (1 = masculino, 2 = femenino).\n",
        "* **EDUCATION**: Nivel educativo (1 = posgrado, 2 = universidad, 3 = bachillerato, 4 = otros, 5 = desconocido, 6 = desconocido).\n",
        "* **MARRIAGE**: Estado civil (1 = casado, 2 = soltero, 3 = otros).\n",
        "* **AGE**: Edad en años.\n",
        "\n",
        "### Variables de historial de pagos\n",
        "Estas variables indican el estatus de pago de los últimos 6 meses (de septiembre de 2005 a abril de 2005). Los valores negativos y ceros indican pagos puntuales o anticipados, mientras que los valores positivos indican retrasos.\n",
        "\n",
        "* **PAY_0, PAY_2, PAY_3, PAY_4, PAY_5, PAY_6**: Estatus de la cuenta de pagos.\n",
        "    * **-1**: Pago puntual.\n",
        "    * **1 a 9**: Retraso de 1 a 9 meses.\n",
        "\n",
        "### Variables de estados de cuenta\n",
        "Estas variables muestran el monto del estado de cuenta de los últimos 6 meses.\n",
        "\n",
        "* **BILL_AMT1 a BILL_AMT6**: Monto del estado de cuenta en NT$ (desde septiembre de 2005 hasta abril de 2005, respectivamente).\n",
        "\n",
        "### Variables de pagos anteriores\n",
        "Estas variables indican el monto de los pagos anteriores.\n",
        "\n",
        "* **PAY_AMT1 a PAY_AMT6**: Monto del pago anterior en NT$ (desde septiembre de 2005 hasta abril de 2005, respectivamente).\n",
        "\n",
        "### Variable objetivo\n",
        "* **default.payment.next.month**: Variable de destino o **target**. Indica si el cliente entró en **default** el mes siguiente (1 = sí, 0 = no)."
      ],
      "metadata": {
        "id": "-3d8XVGMIMaN"
      },
      "id": "-3d8XVGMIMaN"
    },
    {
      "cell_type": "code",
      "execution_count": null,
      "id": "2a98b83d-7f36-4c02-8cd3-993e2765deb1",
      "metadata": {
        "id": "2a98b83d-7f36-4c02-8cd3-993e2765deb1"
      },
      "outputs": [],
      "source": [
        "# Verificar si se ejecuta en Google Colab\n",
        "try:\n",
        "    from google.colab import output\n",
        "    output.enable_custom_widget_manager()\n",
        "except ImportError:\n",
        "    pass  # estamos en Jupyter normal, no hace falta\n",
        "\n",
        "import pandas as pd\n",
        "import numpy as np\n",
        "import matplotlib.pyplot as plt\n",
        "import seaborn as sns\n",
        "from sklearn.metrics import classification_report, roc_auc_score, confusion_matrix, roc_curve, auc\n",
        "from sklearn.model_selection import train_test_split"
      ]
    },
    {
      "cell_type": "code",
      "execution_count": null,
      "id": "a1af62bb-97f8-4f6e-8dd5-0d4d5782f498",
      "metadata": {
        "id": "a1af62bb-97f8-4f6e-8dd5-0d4d5782f498"
      },
      "outputs": [],
      "source": [
        "# Verificar si catboost está instalado, si no instalarlo\n",
        "try:\n",
        "    from catboost import CatBoostClassifier\n",
        "    #print(\"✅ CatBoost ya está instalado\")\n",
        "except ImportError:\n",
        "    print(\"⚠️ CatBoost no está instalado. Instalando ahora...\")\n",
        "    !pip install -q catboost > /dev/null\n",
        "    from catboost import CatBoostClassifier\n",
        "    print(\"✅ CatBoost instalado correctamente\")\n"
      ]
    },
    {
      "cell_type": "code",
      "execution_count": null,
      "id": "b7aea4c9-1565-464a-b651-299c4111de83",
      "metadata": {
        "id": "b7aea4c9-1565-464a-b651-299c4111de83"
      },
      "outputs": [],
      "source": [
        "url = \"https://archive.ics.uci.edu/ml/machine-learning-databases/00350/default%20of%20credit%20card%20clients.xls\"\n",
        "df = pd.read_excel(url, header=1)\n",
        "\n",
        "df.rename(columns={\"default payment next month\": \"default\"}, inplace=True)"
      ]
    },
    {
      "cell_type": "code",
      "execution_count": null,
      "id": "e96e975e",
      "metadata": {
        "id": "e96e975e"
      },
      "outputs": [],
      "source": [
        "X = df.drop(columns=[\"ID\",\"default\"])\n",
        "y = df[\"default\"]\n",
        "\n",
        "X_train, X_test, y_train, y_test = train_test_split(\n",
        "    X, y, test_size=0.3, random_state=42, stratify=y\n",
        ")"
      ]
    },
    {
      "cell_type": "markdown",
      "id": "3cb4101c",
      "metadata": {
        "id": "3cb4101c"
      },
      "source": [
        "---\n",
        "\n",
        "## 3. Entrenar CatBoost"
      ]
    },
    {
      "cell_type": "code",
      "execution_count": null,
      "id": "8bb39ec3",
      "metadata": {
        "id": "8bb39ec3"
      },
      "outputs": [],
      "source": [
        "cat = CatBoostClassifier(\n",
        "    iterations=200,\n",
        "    depth=6,\n",
        "    learning_rate=0.1,\n",
        "    random_seed=42,\n",
        "    verbose=50,\n",
        "    loss_function=\"Logloss\",   # lo que se optimiza\n",
        "    eval_metric=\"AUC\",         # lo que se usa para seleccionar el \"best iteration\"\n",
        "    auto_class_weights=\"Balanced\",\n",
        "    early_stopping_rounds=100,  # ⚡ se detiene si no mejora en 100 iteraciones\n",
        ")\n",
        "\n",
        "cat.fit(\n",
        "    X_train, y_train,\n",
        "    eval_set=(X_test, y_test),\n",
        "    use_best_model=True,\n",
        "    plot=True\n",
        ")\n",
        "\n",
        "# opcional: inspeccionar métricas por iteración\n",
        "ev = cat.get_evals_result()\n",
        "print(\"Best iteration by AUC:\", cat.get_best_iteration())\n",
        "print(\"Best scores:\", cat.get_best_score())  # {'learn': {...}, 'validation': {...}}\n",
        "\n",
        "y_pred = cat.predict(X_test)\n",
        "y_proba = cat.predict_proba(X_test)[:,1]\n",
        "\n",
        "print('\\nClassification Report\\n',classification_report(y_test, y_pred))\n",
        "print(\"AUC:\", roc_auc_score(y_test, y_proba))"
      ]
    },
    {
      "cell_type": "code",
      "execution_count": null,
      "id": "3f1f70f4-6de6-4d36-be51-3a362e8dad24",
      "metadata": {
        "id": "3f1f70f4-6de6-4d36-be51-3a362e8dad24"
      },
      "outputs": [],
      "source": [
        "# === Matriz de confusión ===\n",
        "cm = confusion_matrix(y_test, y_pred)\n",
        "\n",
        "plt.figure(figsize=(5,4))\n",
        "sns.heatmap(cm, annot=True, fmt=\"d\", cmap=\"Blues\", cbar=False)\n",
        "plt.xlabel(\"Predicción\")\n",
        "plt.ylabel(\"Valor real\")\n",
        "plt.title(\"Matriz de confusión\")\n",
        "plt.show()\n",
        "\n",
        "# === Curva ROC ===\n",
        "fpr, tpr, thresholds = roc_curve(y_test, y_proba)\n",
        "roc_auc = auc(fpr, tpr)\n",
        "\n",
        "plt.figure(figsize=(6,5))\n",
        "plt.plot(fpr, tpr, label=f\"XGBClassifier (AUC = {roc_auc:.2f})\")\n",
        "plt.plot([0,1], [0,1], linestyle=\"--\", color=\"gray\")  # línea diagonal\n",
        "plt.xlabel(\"False Positive Rate\")\n",
        "plt.ylabel(\"True Positive Rate\")\n",
        "plt.title(\"Curva ROC\")\n",
        "plt.legend(loc=\"lower right\")\n",
        "plt.show()"
      ]
    },
    {
      "cell_type": "code",
      "execution_count": null,
      "id": "74088aa0-b2b8-4acc-a498-48e317f64719",
      "metadata": {
        "id": "74088aa0-b2b8-4acc-a498-48e317f64719"
      },
      "outputs": [],
      "source": [
        "# ------------------------------\n",
        "# Importancia de variables (Gain)\n",
        "# ------------------------------\n",
        "feat_imp = pd.DataFrame({\n",
        "    'feature': X_train.columns,\n",
        "    'importance': cat.get_feature_importance(type='FeatureImportance')\n",
        "}).sort_values('importance', ascending=False)\n",
        "\n",
        "# Plot Top-N\n",
        "TOP_N = 20\n",
        "plt.figure(figsize=(8, max(4, TOP_N * 0.3)))\n",
        "sns.barplot(data=feat_imp.head(TOP_N), x='importance', y='feature')\n",
        "plt.title(f'Importancia de variables (Top {TOP_N}) - CatBoost')\n",
        "plt.xlabel('Importancia (Gain)')\n",
        "plt.ylabel('Feature')\n",
        "plt.tight_layout()\n",
        "plt.show()"
      ]
    },
    {
      "cell_type": "code",
      "execution_count": null,
      "id": "c895a461-04d2-4933-ab2a-501da7660bda",
      "metadata": {
        "id": "c895a461-04d2-4933-ab2a-501da7660bda"
      },
      "outputs": [],
      "source": [
        "# ------------------------------\n",
        "# SHAP values (Beeswarm)\n",
        "# ------------------------------\n",
        "import shap\n",
        "# Para velocidad, tomamos una muestra (ajustar el tamaño a gusto)\n",
        "sample_size = min(5000, len(X_test))\n",
        "X_sample = X_test.sample(sample_size, random_state=42)\n",
        "\n",
        "# SHAP con CatBoost: usar predict con pred_type='RawFormulaVal' para background;\n",
        "# pero shap.TreeExplainer maneja CatBoost directamente.\n",
        "explainer = shap.TreeExplainer(cat)\n",
        "shap_values = explainer.shap_values(X_sample)\n",
        "\n",
        "# Si el modelo es binario, shap_values puede ser un array 2D (n_samples, n_features)\n",
        "# o una lista de arrays. Normalizamos a una matriz 2D:\n",
        "if isinstance(shap_values, list):\n",
        "    # Para binario en versiones recientes, suele devolver 2 clases; tomamos la de la clase positiva\n",
        "    shap_values = shap_values[1]\n",
        "\n",
        "shap.summary_plot(shap_values, X_sample, plot_type=\"dot\", show=True)  # beeswarm"
      ]
    },
    {
      "cell_type": "code",
      "execution_count": null,
      "id": "6750c80e-fb00-4f2e-b290-aa2d44642b79",
      "metadata": {
        "id": "6750c80e-fb00-4f2e-b290-aa2d44642b79"
      },
      "outputs": [],
      "source": []
    },
    {
      "cell_type": "markdown",
      "id": "4df081a3-2c02-4633-85bc-0777266fce99",
      "metadata": {
        "id": "4df081a3-2c02-4633-85bc-0777266fce99"
      },
      "source": [
        "---\n",
        "## Ejemplo adicional: CatBoost con Bank Marketing (UCI)\n",
        "Bank Marketing (UCI) con desbalance, métricas y explicabilidad"
      ]
    },
    {
      "cell_type": "markdown",
      "source": [
        "El dataset **\"Bank Marketing\"** de UCI contiene información sobre campañas de marketing directo (llamadas telefónicas) de un banco portugués. El objetivo principal es predecir si un cliente se suscribirá o no a un **depósito a plazo fijo**. El conjunto de datos incluye una variedad de variables que describen al cliente, la campaña de marketing actual y el resultado de campañas anteriores.\n",
        "\n",
        "---\n",
        "\n",
        "### 👤 Datos del cliente\n",
        "Estas variables describen el perfil demográfico y crediticio del cliente.\n",
        "\n",
        "* **age**: Edad del cliente (numérica).\n",
        "* **job**: Tipo de trabajo del cliente (categórica). Ejemplos: \"admin.\", \"blue-collar\", \"entrepreneur\", \"housemaid\", \"management\", \"retired\", \"self-employed\", \"services\", \"student\", \"technician\", \"unemployed\", \"unknown\".\n",
        "* **marital**: Estado civil (categórica). \"divorced\" (divorciado o viudo), \"married\" (casado), \"single\" (soltero).\n",
        "* **education**: Nivel educativo (categórica). Ejemplos: \"basic.4y\", \"high.school\", \"university.degree\", \"unknown\".\n",
        "* **default**: ¿Tiene crédito en mora? (binaria: \"yes\", \"no\").\n",
        "* **balance**: Saldo promedio anual en euros (numérica).\n",
        "* **housing**: ¿Tiene un préstamo hipotecario? (binaria: \"yes\", \"no\").\n",
        "* **loan**: ¿Tiene un préstamo personal? (binaria: \"yes\", \"no\").\n",
        "\n",
        "---\n",
        "\n",
        "### 📞 Datos de la última campaña\n",
        "Estas variables están relacionadas con el último contacto de la campaña de marketing actual.\n",
        "\n",
        "* **contact**: Tipo de comunicación del último contacto (categórica). Ejemplos: \"cellular\", \"telephone\", \"unknown\".\n",
        "* **day**: Día del mes del último contacto (numérica).\n",
        "* **month**: Mes del último contacto del año (categórica).\n",
        "* **duration**: Duración del último contacto, en segundos (numérica). ⚠️ **Nota importante**: Esta variable afecta significativamente la variable de destino. Si la duración es 0, la respuesta \"no\" es segura. Sin embargo, no se conoce antes de la llamada, por lo que debe usarse solo para fines de referencia y no para construir un modelo predictivo realista.\n",
        "\n",
        "---\n",
        "\n",
        "### 📊 Otros atributos\n",
        "Estas variables se refieren a campañas anteriores del banco.\n",
        "\n",
        "* **campaign**: Número de contactos realizados durante esta campaña para este cliente, incluyendo el último contacto (numérica).\n",
        "* **pdays**: Número de días que pasaron desde que el cliente fue contactado por última vez en una campaña anterior (numérica). Un valor de **-1** significa que el cliente no fue contactado previamente.\n",
        "* **previous**: Número de contactos realizados para este cliente antes de la campaña actual (numérica).\n",
        "* **poutcome**: Resultado de la campaña de marketing anterior (categórica). Ejemplos: \"failure\", \"other\", \"success\", \"unknown\".\n",
        "\n",
        "---\n",
        "\n",
        "### 🎯 Variable de destino (target)\n",
        "Esta es la variable que se busca predecir.\n",
        "\n",
        "* **y**: ¿Se suscribió el cliente a un depósito a plazo fijo? (binaria: \"yes\", \"no\")."
      ],
      "metadata": {
        "id": "9ZPnUrxAJjbs"
      },
      "id": "9ZPnUrxAJjbs"
    },
    {
      "cell_type": "code",
      "execution_count": null,
      "id": "995a8272-3f61-4aeb-bf8b-ff12a0fd527a",
      "metadata": {
        "id": "995a8272-3f61-4aeb-bf8b-ff12a0fd527a"
      },
      "outputs": [],
      "source": [
        "import io, zipfile, requests, os\n",
        "import numpy as np\n",
        "import pandas as pd\n",
        "import matplotlib.pyplot as plt\n",
        "import seaborn as sns\n",
        "\n",
        "from sklearn.model_selection import train_test_split\n",
        "from sklearn.metrics import (\n",
        "    classification_report, roc_auc_score, roc_curve, confusion_matrix\n",
        ")\n",
        "\n",
        "from catboost import CatBoostClassifier"
      ]
    },
    {
      "cell_type": "code",
      "execution_count": null,
      "id": "8fccea3a-79b3-464f-b20b-c180df9aaeed",
      "metadata": {
        "id": "8fccea3a-79b3-464f-b20b-c180df9aaeed"
      },
      "outputs": [],
      "source": [
        "# ------------------------------\n",
        "# 1) Cargar dataset desde ZIP (UCI)\n",
        "# ------------------------------\n",
        "url_bank_zip = \"https://archive.ics.uci.edu/ml/machine-learning-databases/00222/bank-additional.zip\"\n",
        "resp = requests.get(url_bank_zip, timeout=60)\n",
        "resp.raise_for_status()\n",
        "z = zipfile.ZipFile(io.BytesIO(resp.content))\n",
        "csv_path_inside_zip = \"bank-additional/bank-additional-full.csv\"\n",
        "\n",
        "bank_df = pd.read_csv(z.open(csv_path_inside_zip), sep=';')"
      ]
    },
    {
      "cell_type": "code",
      "execution_count": null,
      "id": "dfaf9bf2-c5ef-453c-914b-0bd21f8df27a",
      "metadata": {
        "id": "dfaf9bf2-c5ef-453c-914b-0bd21f8df27a"
      },
      "outputs": [],
      "source": [
        "# ------------------------------\n",
        "# 2) Preparación: target, split y categóricas\n",
        "# ------------------------------\n",
        "X_bank = bank_df.drop(\"y\", axis=1)\n",
        "y_bank = bank_df[\"y\"].map({\"yes\": 1, \"no\": 0})\n",
        "\n",
        "cat_features_bank = X_bank.select_dtypes(include=['object']).columns.tolist()\n",
        "print(\"Columnas categóricas:\", cat_features_bank)\n",
        "\n",
        "Xb_train, Xb_test, yb_train, yb_test = train_test_split(\n",
        "    X_bank, y_bank, test_size=0.3, random_state=42, stratify=y_bank\n",
        ")"
      ]
    },
    {
      "cell_type": "code",
      "execution_count": null,
      "id": "aea8af73-697f-4a32-a471-a66600849aed",
      "metadata": {
        "id": "aea8af73-697f-4a32-a471-a66600849aed"
      },
      "outputs": [],
      "source": [
        "# ------------------------------\n",
        "# 3) Manejo de desbalance mediante class_weights\n",
        "#    (inversamente proporcional a la frecuencia de cada clase)\n",
        "# ------------------------------\n",
        "pos_rate = yb_train.mean()\n",
        "w1 = 0.5 / pos_rate          # peso clase 1\n",
        "w0 = 0.5 / (1.0 - pos_rate)  # peso clase 0\n",
        "class_weights = {0: w0, 1: w1}\n",
        "print(f\"Pesos de clase -> 0: {w0:.3f}, 1: {w1:.3f}\")\n",
        "\n",
        "# ------------------------------\n",
        "# 4) Entrenamiento CatBoost con eval_set y registro de métricas\n",
        "#    (eval_metric AUC para seguimiento)\n",
        "# ------------------------------\n",
        "cat_bank = CatBoostClassifier(\n",
        "    iterations=600,\n",
        "    depth=6,\n",
        "    learning_rate=0.07,\n",
        "    random_seed=42,\n",
        "    verbose=50,\n",
        "    eval_metric=\"AUC\",\n",
        "    loss_function=\"Logloss\",\n",
        "    #class_weights=class_weights,\n",
        "    auto_class_weights=\"Balanced\"  # ✅ ajuste automático del desbalance\n",
        ")\n",
        "\n",
        "cat_bank.fit(\n",
        "    Xb_train, yb_train,\n",
        "    cat_features=cat_features_bank,\n",
        "    eval_set=(Xb_test, yb_test),\n",
        "    use_best_model=True,\n",
        "    plot=True\n",
        ")"
      ]
    },
    {
      "cell_type": "code",
      "execution_count": null,
      "id": "fc862c21-e8b5-41c3-b3ae-7f1db62cc147",
      "metadata": {
        "id": "fc862c21-e8b5-41c3-b3ae-7f1db62cc147"
      },
      "outputs": [],
      "source": [
        "# ------------------------------\n",
        "# 5) Predicciones y métricas básicas\n",
        "# ------------------------------\n",
        "yb_pred = cat_bank.predict(Xb_test)\n",
        "yb_proba = cat_bank.predict_proba(Xb_test)[:, 1]\n",
        "\n",
        "print(\"\\nReporte de clasificación (Bank Marketing):\")\n",
        "print(classification_report(yb_test, yb_pred, digits=4))\n",
        "print(\"AUC:\", roc_auc_score(yb_test, yb_proba))"
      ]
    },
    {
      "cell_type": "code",
      "execution_count": null,
      "id": "fa4fcbbb-a683-41b5-ba39-f33d6c982f2f",
      "metadata": {
        "id": "fa4fcbbb-a683-41b5-ba39-f33d6c982f2f"
      },
      "outputs": [],
      "source": [
        "# ------------------------------\n",
        "# 6) Curva ROC\n",
        "# ------------------------------\n",
        "fpr, tpr, thr = roc_curve(yb_test, yb_proba)\n",
        "auc_ = roc_auc_score(yb_test, yb_proba)\n",
        "\n",
        "plt.figure()\n",
        "plt.plot(fpr, tpr, label=f'ROC (AUC={auc_:.3f})')\n",
        "plt.plot([0, 1], [0, 1], linestyle='--')\n",
        "plt.xlabel('FPR')\n",
        "plt.ylabel('TPR')\n",
        "plt.title('Curva ROC - Bank Marketing')\n",
        "plt.legend()\n",
        "plt.grid(True)\n",
        "plt.show()"
      ]
    },
    {
      "cell_type": "code",
      "execution_count": null,
      "id": "34a731bd-3ab7-4d05-85b8-650fa9965b16",
      "metadata": {
        "id": "34a731bd-3ab7-4d05-85b8-650fa9965b16"
      },
      "outputs": [],
      "source": [
        "# ------------------------------\n",
        "# 8) Matriz de confusión (normalizada por filas)\n",
        "# ------------------------------\n",
        "cm = confusion_matrix(yb_test, yb_pred)\n",
        "\n",
        "plt.figure()\n",
        "sns.heatmap(cm, annot=True, fmt=\"d\", cmap=\"Blues\",\n",
        "            xticklabels=['No', 'Sí'], yticklabels=['No', 'Sí'])\n",
        "plt.xlabel(\"Predicción\")\n",
        "plt.ylabel(\"Real\")\n",
        "plt.title(\"Matriz de confusión\")\n",
        "plt.show()\n"
      ]
    },
    {
      "cell_type": "code",
      "execution_count": null,
      "id": "dc535ffd-8f7c-4282-a5ea-9abdcf1a5a51",
      "metadata": {
        "id": "dc535ffd-8f7c-4282-a5ea-9abdcf1a5a51"
      },
      "outputs": [],
      "source": [
        "# ------------------------------\n",
        "# 9) Importancia de variables (Gain)\n",
        "# ------------------------------\n",
        "feat_imp = pd.DataFrame({\n",
        "    'feature': Xb_train.columns,\n",
        "    'importance': cat_bank.get_feature_importance(type='FeatureImportance')\n",
        "}).sort_values('importance', ascending=False)\n",
        "\n",
        "# Plot Top-N\n",
        "TOP_N = 20\n",
        "plt.figure(figsize=(8, max(4, TOP_N * 0.3)))\n",
        "sns.barplot(data=feat_imp.head(TOP_N), x='importance', y='feature')\n",
        "plt.title(f'Importancia de variables (Top {TOP_N}) - CatBoost')\n",
        "plt.xlabel('Importancia (Gain)')\n",
        "plt.ylabel('Feature')\n",
        "plt.tight_layout()\n",
        "plt.show()"
      ]
    },
    {
      "cell_type": "code",
      "execution_count": null,
      "id": "8bcab327-446e-4a80-9531-000d0c9a5c22",
      "metadata": {
        "id": "8bcab327-446e-4a80-9531-000d0c9a5c22"
      },
      "outputs": [],
      "source": [
        "# ------------------------------\n",
        "# 10) SHAP values (Beeswarm)\n",
        "# ------------------------------\n",
        "\n",
        "from catboost import Pool\n",
        "import numpy as np\n",
        "import pandas as pd\n",
        "\n",
        "# 1) Pool de test con info de categóricas\n",
        "test_pool = Pool(\n",
        "    data=Xb_test,\n",
        "    label=yb_test,\n",
        "    cat_features=cat_features_bank\n",
        ")\n",
        "\n",
        "# 2) SHAP nativo de CatBoost\n",
        "#    Resultado: (n_muestras, n_features + 1); última col = base value (expected value)\n",
        "shap_raw = cat_bank.get_feature_importance(\n",
        "    test_pool,\n",
        "    type='ShapValues'\n",
        ")\n",
        "\n",
        "# 3) Separar contribuciones y valor base\n",
        "shap_values = shap_raw[:, :-1]   # contribuciones por feature\n",
        "base_value  = shap_raw[:, -1]    # expected value (no necesario para el beeswarm)\n",
        "\n",
        "# 4) Opcional: muestrear para velocidad\n",
        "sample_size = min(5000, len(Xb_test))\n",
        "X_sample = Xb_test.sample(sample_size, random_state=42)\n",
        "idx = X_sample.index\n",
        "shap_values_sample = shap_values[np.isin(Xb_test.index, idx), :]\n",
        "\n",
        "# Convertir categóricas a string para visualización\n",
        "X_sample_disp = X_sample.copy()\n",
        "for c in cat_features_bank:\n",
        "    X_sample_disp[c] = X_sample_disp[c].astype(str)\n",
        "\n",
        "# 5) Graficar beeswarm con shap\n",
        "import shap\n",
        "shap.summary_plot(\n",
        "    shap_values_sample,\n",
        "    X_sample_disp,\n",
        "    plot_type=\"dot\",    # beeswarm clásico\n",
        "    show=True\n",
        ")"
      ]
    },
    {
      "cell_type": "code",
      "execution_count": null,
      "id": "c777f309-a1f9-4f2a-9754-b688dc6155f6",
      "metadata": {
        "id": "c777f309-a1f9-4f2a-9754-b688dc6155f6"
      },
      "outputs": [],
      "source": [
        "## Force plot individual (CatBoost SHAP + shap)\n",
        "\n",
        "import numpy as np\n",
        "import shap\n",
        "\n",
        "# Elegimos una instancia a explicar:\n",
        "# 1) por índice directo (ej.: la primera del test)\n",
        "i = 0\n",
        "\n",
        "# 2) o la de mayor probabilidad positiva (ejemplo común):\n",
        "# i = np.argmax(cat_bank.predict_proba(Xb_test)[:, 1])\n",
        "\n",
        "# Extraer los insumos de esa instancia\n",
        "x_row = Xb_test.iloc[i]\n",
        "shap_row = shap_values[i, :]     # contribuciones SHAP de esa fila (sin base value)\n",
        "expected = base_value[i]         # expected value (base) para esa fila\n",
        "\n",
        "# shap necesita features en el mismo formato; convertimos categóricas a str para mostrar bonito\n",
        "x_row_disp = x_row.copy()\n",
        "for c in cat_features_bank:\n",
        "    x_row_disp[c] = str(x_row_disp[c])\n",
        "\n",
        "# Mostrar el force plot en Jupyter\n",
        "shap.initjs()\n",
        "shap.force_plot(\n",
        "    base_value=expected,\n",
        "    shap_values=shap_row,\n",
        "    features=x_row_disp,\n",
        "    matplotlib=True  # en notebooks HTML interactivo; si preferís imagen estática, usa True\n",
        ")\n"
      ]
    },
    {
      "cell_type": "markdown",
      "id": "8c928178-573b-4176-b34b-4d0f4c0f38f9",
      "metadata": {
        "id": "8c928178-573b-4176-b34b-4d0f4c0f38f9"
      },
      "source": [
        "## 4. Comparación con XGBoost\n",
        "\n",
        "Aunque **CatBoost** y **XGBoost** son dos de los algoritmos de *gradient boosting* más utilizados, presentan diferencias importantes:\n",
        "\n",
        "* **Preprocesamiento de variables categóricas**\n",
        "\n",
        "  * *CatBoost*: soporta variables categóricas de forma nativa. Utiliza técnicas como *ordered boosting* y *target statistics* que reducen leakage y evitan el one-hot encoding masivo.\n",
        "  * *XGBoost*: en versiones clásicas requería transformar categorías (p. ej., one-hot o label encoding). Sin embargo, **desde la versión 1.3** y posteriores, XGBoost ya soporta **categorías de manera nativa** (`enable_categorical=True` en `DMatrix`/`XGBClassifier`). Esto reduce la brecha que existía antes.\n",
        "\n",
        "* **Procesamiento de texto**\n",
        "\n",
        "  * *CatBoost*: ofrece soporte para **features de texto**, aplicando técnicas inspiradas en NLP (por ejemplo, tokenización interna, embeddings simples y combinaciones de palabras). Esto le permite trabajar con columnas textuales sin requerir una vectorización externa compleja (como TF-IDF o Word2Vec).\n",
        "  * *XGBoost*: no tiene soporte nativo para texto. Normalmente hay que preprocesarlo (TF-IDF, embeddings, etc.) antes de entrenar.\n",
        "\n",
        "* **Velocidad y escalabilidad**\n",
        "\n",
        "  * *XGBoost*: suele ser más rápido en datasets **muy grandes** gracias a su motor altamente optimizado en memoria y paralelización.\n",
        "  * *CatBoost*: en conjuntos de datos medianos-grandes con muchas variables categóricas puede ser más lento, aunque simplifica mucho el pipeline porque evita pasos manuales de codificación.\n",
        "\n",
        "* **Calidad del modelo**\n",
        "\n",
        "  * Ambos logran rendimientos similares en muchos benchmarks.\n",
        "  * *CatBoost* suele destacar en datasets ricos en variables categóricas o textuales.\n",
        "  * *XGBoost* puede igualar o superar en datasets mayormente numéricos con gran volumen.\n",
        "\n",
        "* **Interpretabilidad y comunidad**\n",
        "\n",
        "  * Ambos disponen de herramientas de interpretación como **Feature Importance** y **SHAP values**.\n",
        "  * *XGBoost* tiene una comunidad más grande y madura.\n",
        "  * *CatBoost* sigue creciendo rápido, sobre todo en entornos donde el tabular con muchas categorías es dominante (ej. crédito, marketing, retail).\n",
        "\n",
        "---"
      ]
    },
    {
      "cell_type": "markdown",
      "id": "e034081e-5b63-4e20-8979-e1d4a460740d",
      "metadata": {
        "id": "e034081e-5b63-4e20-8979-e1d4a460740d"
      },
      "source": [
        "## 📊 Tabla comparativa: CatBoost vs XGBoost\n",
        "\n",
        "| Aspecto               | **CatBoost**                                                                                         | **XGBoost**                                                                                                    |\n",
        "| --------------------- | ---------------------------------------------------------------------------------------------------- | -------------------------------------------------------------------------------------------------------------- |\n",
        "| **Categorías**        | Soporta **nativamente** variables categóricas (no requiere encoding manual, usa *ordered boosting*). | Desde la versión **1.3+** soporta categorías nativamente (`enable_categorical=True`), antes requería encoding. |\n",
        "| **Texto**             | Puede procesar **features textuales** de forma nativa (tokenización, combinaciones de palabras).     | No tiene soporte nativo para texto → se necesita preprocesar (TF-IDF, embeddings, etc.).                       |\n",
        "| **Velocidad**         | Muy eficiente en datasets medianos con muchas categorías. Puede ser algo más lento en big data.      | Generalmente más **rápido y escalable** en datasets muy grandes (optimizaciones en memoria y paralelismo).     |\n",
        "| **Comunidad**         | Comunidad más pequeña pero en rápido crecimiento.                                                    | Comunidad muy grande, extensa documentación y ecosistema maduro.                                               |\n",
        "| **Interpretabilidad** | Soporta SHAP nativo (`get_feature_importance(type=\"ShapValues\")`) + plots.                           | Integración fluida con librerías externas como `shap`. Ambas con opciones de importancia de features.          |\n",
        "\n",
        "---\n",
        "\n",
        "### 🔎 Comentarios clave\n",
        "\n",
        "* **CatBoost**: ideal cuando el dataset tiene **muchas categorías o variables textuales**, porque reduce el preprocesamiento al mínimo.\n",
        "* **XGBoost**: excelente elección en **datasets muy grandes y mayormente numéricos**, gracias a su velocidad y comunidad extensa.\n",
        "* Ambos superan a modelos lineales en tabulares con relaciones no lineales, y ofrecen herramientas modernas de interpretabilidad (SHAP, feature importance).\n",
        "\n",
        "---\n"
      ]
    },
    {
      "cell_type": "markdown",
      "id": "9804f23a-8ae1-4a59-8ed4-4618e617995f",
      "metadata": {
        "id": "9804f23a-8ae1-4a59-8ed4-4618e617995f"
      },
      "source": [
        "## 5. Preguntas de Discusión\n",
        "\n",
        "1. **¿En qué escenarios CatBoost puede ser preferible sobre XGBoost?**\n",
        "\n",
        "   * Cuando el dataset tiene **muchas variables categóricas** con alta cardinalidad.\n",
        "   * Cuando se trabaja con **texto en columnas tabulares** (ejemplo: reseñas de clientes, descripciones de productos).\n",
        "   * En pipelines donde se busca **menos preprocesamiento manual** y un flujo más sencillo.\n",
        "\n",
        "2. **¿Por qué CatBoost maneja mejor las variables categóricas?**\n",
        "\n",
        "   * Porque implementa *ordered boosting* y codificaciones basadas en estadísticas que reducen el leakage.\n",
        "   * Porque convierte automáticamente las categorías en representaciones numéricas útiles sin inflar la dimensionalidad (a diferencia del one-hot encoding).\n",
        "   * Además, extiende esta filosofía a **features textuales**, lo que lo hace más versátil que otros boosters.\n",
        "\n",
        "3. **¿Qué trade-off hay entre interpretabilidad y performance en estos modelos?**\n",
        "\n",
        "   * Ambos ofrecen **alto performance**, a costa de ser menos interpretables que modelos lineales o árboles simples.\n",
        "   * Herramientas como **SHAP**, **Feature Importance** o **Partial Dependence Plots** ayudan, pero la explicación sigue siendo más compleja que con modelos más simples.\n",
        "   * En dominios regulados (ej. salud, finanzas) este trade-off es clave: se busca un balance entre **predicciones más precisas** y **modelos más comprensibles** para auditores o usuarios finales.\n",
        "\n",
        "---"
      ]
    }
  ],
  "metadata": {
    "jupytext": {
      "cell_metadata_filter": "-all",
      "formats": "ipynb,md,auto:percent",
      "main_language": "python",
      "notebook_metadata_filter": "-all"
    },
    "kernelspec": {
      "display_name": "Python 3 (ipykernel)",
      "language": "python",
      "name": "python3"
    },
    "language_info": {
      "codemirror_mode": {
        "name": "ipython",
        "version": 3
      },
      "file_extension": ".py",
      "mimetype": "text/x-python",
      "name": "python",
      "nbconvert_exporter": "python",
      "pygments_lexer": "ipython3",
      "version": "3.10.16"
    },
    "colab": {
      "provenance": [],
      "include_colab_link": true
    }
  },
  "nbformat": 4,
  "nbformat_minor": 5
}